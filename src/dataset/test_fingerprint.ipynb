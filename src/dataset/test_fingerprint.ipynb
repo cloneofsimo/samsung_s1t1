{
 "cells": [
  {
   "cell_type": "code",
   "execution_count": null,
   "source": [
    "import rdkit\n",
    "from rdkit import Chem\n",
    "from rdkit.Chem.rdchem import HybridizationType\n",
    "from rdkit.Chem.rdchem import BondType as BT\n",
    "from rdkit import RDLogger\n",
    "import numpy as np\n",
    "import pandas as pd\n",
    "from collections import defaultdict\n",
    "atom_dict = defaultdict(lambda: len(atom_dict))\n",
    "bond_dict = defaultdict(lambda: len(bond_dict))\n",
    "fingerprint_dict = defaultdict(lambda: len(fingerprint_dict))\n",
    "edge_dict = defaultdict(lambda: len(edge_dict))\n",
    "\n",
    "\n",
    "smiles = [\n",
    "    'CC(=O)O',\n",
    "    'O=C(c1ccc(-n2c3ccc(-c4ccccc4)cc3c3cc(-c4ccccc4)ccc32)cc1)c1ccc(-n2c3ccc(-c4ccccc4)cc3c3cc(-c4ccccc4)ccc32)cc1'\n",
    "]"
   ],
   "outputs": [],
   "metadata": {}
  },
  {
   "cell_type": "code",
   "execution_count": null,
   "source": [
    "def create_atoms(mol, atom_dict):\n",
    "    \"\"\"Transform the atom types in a molecule (e.g., H, C, and O)\n",
    "    into the indices (e.g., H=0, C=1, and O=2).\n",
    "    Note that each atom index considers the aromaticity.\n",
    "    \"\"\"\n",
    "    atoms = [a.GetSymbol() for a in mol.GetAtoms()]\n",
    "    for a in mol.GetAromaticAtoms():\n",
    "        i = a.GetIdx()\n",
    "        atoms[i] = (atoms[i], \"aromatic\")\n",
    "    atoms = [atom_dict[a] for a in atoms]\n",
    "    return np.array(atoms)"
   ],
   "outputs": [],
   "metadata": {}
  },
  {
   "cell_type": "code",
   "execution_count": null,
   "source": [
    "def create_ijbonddict(mol, bond_dict):\n",
    "    \"\"\"Create a dictionary, in which each key is a node ID\n",
    "    and each value is the tuples of its neighboring node\n",
    "    and chemical bond (e.g., single and double) IDs.\n",
    "    \"\"\"\n",
    "    i_jbond_dict = defaultdict(lambda: [])\n",
    "    for b in mol.GetBonds():\n",
    "        i, j = b.GetBeginAtomIdx(), b.GetEndAtomIdx()\n",
    "        bond = bond_dict[str(b.GetBondType())]\n",
    "        i_jbond_dict[i].append((j, bond))\n",
    "        i_jbond_dict[j].append((i, bond))\n",
    "    return i_jbond_dict\n",
    "\n",
    "def extract_fingerprints(radius, atoms, i_jbond_dict, fingerprint_dict, edge_dict):\n",
    "    \"\"\"Extract the fingerprints from a molecular graph\n",
    "    based on Weisfeiler-Lehman algorithm.\n",
    "    \"\"\"\n",
    "\n",
    "    if (len(atoms) == 1) or (radius == 0):\n",
    "        nodes = [fingerprint_dict[a] for a in atoms]\n",
    "\n",
    "    else:\n",
    "        nodes = atoms\n",
    "        i_jedge_dict = i_jbond_dict\n",
    "\n",
    "        for _ in range(radius):\n",
    "\n",
    "            \"\"\"Update each node ID considering its neighboring nodes and edges.\n",
    "            The updated node IDs are the fingerprint IDs.\n",
    "            \"\"\"\n",
    "            nodes_ = []\n",
    "            for i, j_edge in i_jedge_dict.items():\n",
    "                neighbors = [(nodes[j], edge) for j, edge in j_edge]\n",
    "                fingerprint = (nodes[i], tuple(sorted(neighbors)))\n",
    "                nodes_.append(fingerprint_dict[fingerprint])\n",
    "\n",
    "            \"\"\"Also update each edge ID considering\n",
    "            its two nodes on both sides.\n",
    "            \"\"\"\n",
    "            i_jedge_dict_ = defaultdict(lambda: [])\n",
    "            for i, j_edge in i_jedge_dict.items():\n",
    "                for j, edge in j_edge:\n",
    "                    both_side = tuple(sorted((nodes[i], nodes[j])))\n",
    "                    edge = edge_dict[(both_side, edge)]\n",
    "                    i_jedge_dict_[i].append((j, edge))\n",
    "\n",
    "            nodes = nodes_\n",
    "            i_jedge_dict = i_jedge_dict_\n",
    "\n",
    "    return np.array(nodes)"
   ],
   "outputs": [],
   "metadata": {}
  },
  {
   "cell_type": "code",
   "execution_count": null,
   "source": [
    "RAD = 1\n",
    "\n",
    "def graph_from_smiles(smile):\n",
    "    mol = Chem.AddHs(Chem.MolFromSmiles(smiles))\n",
    "    atoms = create_atoms(mol, atom_dict)\n",
    "    molecular_size = len(atoms)\n",
    "    i_jbond_dict = create_ijbonddict(mol, bond_dict)\n",
    "    fingerprints = extract_fingerprints(\n",
    "        RAD, atoms, i_jbond_dict, fingerprint_dict, edge_dict\n",
    "    )\n",
    "    adjacency = Chem.GetAdjacencyMatrix(mol)"
   ],
   "outputs": [],
   "metadata": {}
  }
 ],
 "metadata": {
  "orig_nbformat": 4,
  "language_info": {
   "name": "python",
   "version": "3.8.11"
  },
  "kernelspec": {
   "name": "python3",
   "display_name": "Python 3.8.11 64-bit ('pytorch_latest': conda)"
  },
  "interpreter": {
   "hash": "6ba2572836e7380dcfcf2834a533ee2ac515e6c9f233b74172390f758cb31d62"
  }
 },
 "nbformat": 4,
 "nbformat_minor": 2
}