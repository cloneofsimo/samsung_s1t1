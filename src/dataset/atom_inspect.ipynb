{
 "cells": [
  {
   "cell_type": "code",
   "execution_count": null,
   "source": [],
   "outputs": [],
   "metadata": {}
  },
  {
   "cell_type": "code",
   "execution_count": null,
   "source": [
    "from s1t1_sdf import SDFDataset\n",
    "\n",
    "x = SDFDataset(dataset_path = "
   ],
   "outputs": [],
   "metadata": {}
  }
 ],
 "metadata": {
  "orig_nbformat": 4,
  "language_info": {
   "name": "python",
   "version": "3.8.11"
  },
  "kernelspec": {
   "name": "python3",
   "display_name": "Python 3.8.11 64-bit ('pytorch_latest': conda)"
  },
  "interpreter": {
   "hash": "6ba2572836e7380dcfcf2834a533ee2ac515e6c9f233b74172390f758cb31d62"
  }
 },
 "nbformat": 4,
 "nbformat_minor": 2
}