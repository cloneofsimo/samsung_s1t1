{
 "cells": [
  {
   "cell_type": "code",
   "execution_count": 1,
   "source": [
    "from s1t1_fingerprint import *\n",
    "\n",
    "dataset_path = \"/home/simo/dl/comp2021/samsung_s1t1/data/split_0/data_train.txt\"\n",
    "\n",
    "atom_dict = defaultdict(lambda: len(atom_dict))\n",
    "bond_dict = defaultdict(lambda: len(bond_dict))\n",
    "fingerprint_dict = {}\n",
    "edge_dict = defaultdict(lambda: len(edge_dict))\n",
    "\n",
    "\n",
    "RAD = 1\n",
    "bonds = {BT.SINGLE: 0, BT.DOUBLE: 1, BT.TRIPLE: 2, BT.AROMATIC: 3}\n",
    "data_list = []\n",
    "\n",
    "with open(dataset_path, \"r\") as f:\n",
    "    data = f.read().strip().split(\"\\n\")\n",
    "\n",
    "    for i, line in enumerate(data):\n",
    "        line = line.split(\" \")\n",
    "        smiles = line[0]\n",
    "        #print(smiles)\n",
    "        \n",
    "        mol = Chem.AddHs(Chem.MolFromSmiles(smiles))\n",
    "        N = mol.GetNumAtoms()\n",
    "\n",
    "        # Create node data\n",
    "        atoms = create_atoms_n_update(mol, atom_dict)\n",
    "\n",
    "        i_jbond_dict = create_ijbonddict(mol, bond_dict)\n",
    "        fingerprints = count_fingerprints(\n",
    "            RAD, atoms, i_jbond_dict, fingerprint_dict, edge_dict\n",
    "        )\n",
    "\n",
    "        "
   ],
   "outputs": [],
   "metadata": {}
  },
  {
   "cell_type": "code",
   "execution_count": 2,
   "source": [
    "atom_dict"
   ],
   "outputs": [
    {
     "output_type": "execute_result",
     "data": {
      "text/plain": [
       "defaultdict(<function __main__.<lambda>()>,\n",
       "            {'C': 0,\n",
       "             'N': 1,\n",
       "             'O': 2,\n",
       "             ('C', 'aromatic'): 3,\n",
       "             ('O', 'aromatic'): 4,\n",
       "             ('N', 'aromatic'): 5,\n",
       "             'H': 6,\n",
       "             'S': 7,\n",
       "             'Cl': 8,\n",
       "             ('S', 'aromatic'): 9,\n",
       "             'F': 10,\n",
       "             'Br': 11,\n",
       "             'Si': 12,\n",
       "             'I': 13,\n",
       "             'P': 14,\n",
       "             'B': 15,\n",
       "             ('P', 'aromatic'): 16})"
      ]
     },
     "metadata": {},
     "execution_count": 2
    }
   ],
   "metadata": {}
  },
  {
   "cell_type": "code",
   "execution_count": 3,
   "source": [
    "# use topk Elements for actual fingerprint : if not in dict, use the mol itself.\n",
    "fingerprint_dict_sorted = sorted(fingerprint_dict.items(), key=lambda x: x[1])\n",
    "fingerprint_dict_topk = {k: v for k, v in fingerprint_dict_sorted[-20:]}\n",
    "fingerprint_dict_topk = {K[0] : idx for idx, K in enumerate(fingerprint_dict_topk.items())}"
   ],
   "outputs": [],
   "metadata": {}
  },
  {
   "cell_type": "code",
   "execution_count": 4,
   "source": [
    "atom_dict\n",
    "atom_ndict = {k : v for k, v in atom_dict.items()}\n",
    "atom_ndict\n"
   ],
   "outputs": [
    {
     "output_type": "execute_result",
     "data": {
      "text/plain": [
       "{'C': 0,\n",
       " 'N': 1,\n",
       " 'O': 2,\n",
       " ('C', 'aromatic'): 3,\n",
       " ('O', 'aromatic'): 4,\n",
       " ('N', 'aromatic'): 5,\n",
       " 'H': 6,\n",
       " 'S': 7,\n",
       " 'Cl': 8,\n",
       " ('S', 'aromatic'): 9,\n",
       " 'F': 10,\n",
       " 'Br': 11,\n",
       " 'Si': 12,\n",
       " 'I': 13,\n",
       " 'P': 14,\n",
       " 'B': 15,\n",
       " ('P', 'aromatic'): 16}"
      ]
     },
     "metadata": {},
     "execution_count": 4
    }
   ],
   "metadata": {}
  },
  {
   "cell_type": "code",
   "execution_count": 5,
   "source": [
    "# pickle dump.\n",
    "\n",
    "import pickle\n",
    "\n",
    "with open('atom_dict.pickle', 'wb') as handle:\n",
    "    pickle.dump(atom_ndict, handle, protocol=pickle.HIGHEST_PROTOCOL)\n",
    "\n",
    "with open('fingerprint_dict_topk.pickle', 'wb') as handle:\n",
    "    pickle.dump(fingerprint_dict_topk, handle, protocol=pickle.HIGHEST_PROTOCOL)\n",
    "\n"
   ],
   "outputs": [],
   "metadata": {}
  },
  {
   "cell_type": "code",
   "execution_count": 6,
   "source": [
    "# try import and load.\n",
    "with open(\"atom_dict.pickle\", 'rb') as handle:\n",
    "    atom_dict = pickle.load(handle)\n",
    "\n",
    "with open(\"fingerprint_dict_topk.pickle\", 'rb') as handle:\n",
    "    fingerprint_dict = pickle.load(handle)\n",
    "\n",
    "atom_dict, fingerprint_dict\n",
    "\n"
   ],
   "outputs": [
    {
     "output_type": "execute_result",
     "data": {
      "text/plain": [
       "({'C': 0,\n",
       "  'N': 1,\n",
       "  'O': 2,\n",
       "  ('C', 'aromatic'): 3,\n",
       "  ('O', 'aromatic'): 4,\n",
       "  ('N', 'aromatic'): 5,\n",
       "  'H': 6,\n",
       "  'S': 7,\n",
       "  'Cl': 8,\n",
       "  ('S', 'aromatic'): 9,\n",
       "  'F': 10,\n",
       "  'Br': 11,\n",
       "  'Si': 12,\n",
       "  'I': 13,\n",
       "  'P': 14,\n",
       "  'B': 15,\n",
       "  ('P', 'aromatic'): 16},\n",
       " {(0, ((3, 0), (6, 0), (6, 0), (6, 0))): 0,\n",
       "  (3, ((3, 2), (5, 2), (6, 0))): 1,\n",
       "  (3, ((3, 2), (3, 2), (3, 2))): 2,\n",
       "  (2, ((0, 0), (3, 0))): 3,\n",
       "  (1, ((0, 0), (0, 0), (0, 0))): 4,\n",
       "  (1, ((0, 0), (0, 0), (6, 0))): 5,\n",
       "  (0, ((0, 0), (2, 0), (6, 0), (6, 0))): 6,\n",
       "  (0, ((0, 0), (1, 0), (2, 1))): 7,\n",
       "  (3, ((2, 0), (3, 2), (3, 2))): 8,\n",
       "  (5, ((3, 2), (3, 2))): 9,\n",
       "  (3, ((1, 0), (3, 2), (3, 2))): 10,\n",
       "  (2, ((0, 1),)): 11,\n",
       "  (0, ((0, 0), (1, 0), (6, 0), (6, 0))): 12,\n",
       "  (6, ((1, 0),)): 13,\n",
       "  (0, ((0, 0), (6, 0), (6, 0), (6, 0))): 14,\n",
       "  (3, ((0, 0), (3, 2), (3, 2))): 15,\n",
       "  (0, ((0, 0), (0, 0), (6, 0), (6, 0))): 16,\n",
       "  (3, ((3, 2), (3, 2), (6, 0))): 17,\n",
       "  (6, ((3, 0),)): 18,\n",
       "  (6, ((0, 0),)): 19})"
      ]
     },
     "metadata": {},
     "execution_count": 6
    }
   ],
   "metadata": {}
  },
  {
   "cell_type": "code",
   "execution_count": null,
   "source": [],
   "outputs": [],
   "metadata": {}
  },
  {
   "cell_type": "code",
   "execution_count": null,
   "source": [],
   "outputs": [],
   "metadata": {}
  }
 ],
 "metadata": {
  "orig_nbformat": 4,
  "language_info": {
   "name": "python",
   "version": "3.8.11",
   "mimetype": "text/x-python",
   "codemirror_mode": {
    "name": "ipython",
    "version": 3
   },
   "pygments_lexer": "ipython3",
   "nbconvert_exporter": "python",
   "file_extension": ".py"
  },
  "kernelspec": {
   "name": "python3",
   "display_name": "Python 3.8.11 64-bit ('pytorch_latest': conda)"
  },
  "interpreter": {
   "hash": "6ba2572836e7380dcfcf2834a533ee2ac515e6c9f233b74172390f758cb31d62"
  }
 },
 "nbformat": 4,
 "nbformat_minor": 2
}